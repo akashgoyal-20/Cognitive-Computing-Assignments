{
  "nbformat": 4,
  "nbformat_minor": 0,
  "metadata": {
    "colab": {
      "provenance": [],
      "authorship_tag": "ABX9TyOND0x2deZIEoazbBzwGApt",
      "include_colab_link": true
    },
    "kernelspec": {
      "name": "python3",
      "display_name": "Python 3"
    },
    "language_info": {
      "name": "python"
    }
  },
  "cells": [
    {
      "cell_type": "markdown",
      "metadata": {
        "id": "view-in-github",
        "colab_type": "text"
      },
      "source": [
        "<a href=\"https://colab.research.google.com/github/akashgoyal-20/Cognitive-Computing-Assignments/blob/main/Assignment1.ipynb\" target=\"_parent\"><img src=\"https://colab.research.google.com/assets/colab-badge.svg\" alt=\"Open In Colab\"/></a>"
      ]
    },
    {
      "cell_type": "code",
      "execution_count": null,
      "metadata": {
        "id": "91yaZLC05qzF"
      },
      "outputs": [],
      "source": []
    },
    {
      "cell_type": "markdown",
      "source": [],
      "metadata": {
        "id": "nWHkGONn5uVU"
      }
    },
    {
      "cell_type": "markdown",
      "source": [
        "Assignment 1.1"
      ],
      "metadata": {
        "id": "jd1wrw0k6W7a"
      }
    },
    {
      "cell_type": "code",
      "source": [
        "for _ in range(0,3):\n",
        "    print(\"AKASH GOYAL\")"
      ],
      "metadata": {
        "colab": {
          "base_uri": "https://localhost:8080/"
        },
        "id": "njloln9N6Z_t",
        "outputId": "8bef27a1-6aa2-4c4d-ed05-e601f82edcf2"
      },
      "execution_count": 25,
      "outputs": [
        {
          "output_type": "stream",
          "name": "stdout",
          "text": [
            "AKASH GOYAL\n",
            "AKASH GOYAL\n",
            "AKASH GOYAL\n"
          ]
        }
      ]
    },
    {
      "cell_type": "markdown",
      "source": [
        "Assignment 2.1"
      ],
      "metadata": {
        "id": "EfQMUczD6etz"
      }
    },
    {
      "cell_type": "code",
      "source": [
        "a=125\n",
        "b=350\n",
        "c=890\n",
        "d=a+b+c\n",
        "print(a,\"+\", b, \"+\", c, \"-->\", d)"
      ],
      "metadata": {
        "colab": {
          "base_uri": "https://localhost:8080/"
        },
        "id": "DM_U1Xw06ie3",
        "outputId": "a4722629-d783-47b4-dd51-7a5af3752aca"
      },
      "execution_count": 26,
      "outputs": [
        {
          "output_type": "stream",
          "name": "stdout",
          "text": [
            "125 + 350 + 890 --> 1365\n"
          ]
        }
      ]
    },
    {
      "cell_type": "markdown",
      "source": [
        "Assignment 2.2"
      ],
      "metadata": {
        "id": "r40IntMS6oWS"
      }
    },
    {
      "cell_type": "code",
      "source": [
        "a=\"Mr.\"\n",
        "b=\"Akash\"\n",
        "c=\"Goyal\"\n",
        "d=a+b+c\n",
        "print(a,\"+\", b, \"+\", c, \"-->\", d)"
      ],
      "metadata": {
        "colab": {
          "base_uri": "https://localhost:8080/"
        },
        "id": "iX0m7SjQ6qRb",
        "outputId": "22bb4a83-27cd-4b8b-ee62-56e0349b055d"
      },
      "execution_count": 27,
      "outputs": [
        {
          "output_type": "stream",
          "name": "stdout",
          "text": [
            "Mr. + Akash + Goyal --> Mr.AkashGoyal\n"
          ]
        }
      ]
    },
    {
      "cell_type": "markdown",
      "source": [
        "Assignment 4.1"
      ],
      "metadata": {
        "id": "VFkqOAFf6v9g"
      }
    },
    {
      "cell_type": "code",
      "source": [
        "for i in range(1,11):\n",
        "  print(7,\"*\", i, \"=\",7*i)\n",
        "\n",
        "print(\"\\n\")\n",
        "\n",
        "for i in range(1,11):\n",
        "  print(9,\"*\", i, \"=\",9*i)\n"
      ],
      "metadata": {
        "colab": {
          "base_uri": "https://localhost:8080/"
        },
        "id": "6fM9avzT7LeH",
        "outputId": "27bc60c2-3c4b-4435-98aa-d3ec1358f81f"
      },
      "execution_count": 5,
      "outputs": [
        {
          "output_type": "stream",
          "name": "stdout",
          "text": [
            "7 * 1 = 7\n",
            "7 * 2 = 14\n",
            "7 * 3 = 21\n",
            "7 * 4 = 28\n",
            "7 * 5 = 35\n",
            "7 * 6 = 42\n",
            "7 * 7 = 49\n",
            "7 * 8 = 56\n",
            "7 * 9 = 63\n",
            "7 * 10 = 70\n",
            "\n",
            "\n",
            "9 * 1 = 9\n",
            "9 * 2 = 18\n",
            "9 * 3 = 27\n",
            "9 * 4 = 36\n",
            "9 * 5 = 45\n",
            "9 * 6 = 54\n",
            "9 * 7 = 63\n",
            "9 * 8 = 72\n",
            "9 * 9 = 81\n",
            "9 * 10 = 90\n"
          ]
        }
      ]
    },
    {
      "cell_type": "markdown",
      "source": [
        "Assignment 4.2"
      ],
      "metadata": {
        "id": "M51pmwJL8vFc"
      }
    },
    {
      "cell_type": "code",
      "source": [
        "n=int(input(\"Enter any number : \"))\n",
        "for i in range(1,11):\n",
        "  print(n,\"*\", i, \"=\",n*i)\n",
        "\n"
      ],
      "metadata": {
        "colab": {
          "base_uri": "https://localhost:8080/"
        },
        "id": "ubmcmwKm8x-U",
        "outputId": "4df80657-7fa6-481d-9f23-60079ef8b2c4"
      },
      "execution_count": 6,
      "outputs": [
        {
          "output_type": "stream",
          "name": "stdout",
          "text": [
            "Enter any number : 5\n",
            "5 * 1 = 5\n",
            "5 * 2 = 10\n",
            "5 * 3 = 15\n",
            "5 * 4 = 20\n",
            "5 * 5 = 25\n",
            "5 * 6 = 30\n",
            "5 * 7 = 35\n",
            "5 * 8 = 40\n",
            "5 * 9 = 45\n",
            "5 * 10 = 50\n"
          ]
        }
      ]
    },
    {
      "cell_type": "markdown",
      "source": [
        "Assignment 4.3"
      ],
      "metadata": {
        "id": "7JZZP9Qg9Gfd"
      }
    },
    {
      "cell_type": "code",
      "source": [
        "n=int(input(\"Enter any number : \"))\n",
        "sum=0\n",
        "for i in range(1,n+1):\n",
        "  sum=sum+i\n",
        "print(f\"Sum of n numbers : {sum}\")"
      ],
      "metadata": {
        "colab": {
          "base_uri": "https://localhost:8080/"
        },
        "id": "80IP5Kx-9Jkj",
        "outputId": "32099ae4-c655-439d-a382-c84146b93cbd"
      },
      "execution_count": 13,
      "outputs": [
        {
          "output_type": "stream",
          "name": "stdout",
          "text": [
            "Enter any number : 5\n",
            "Sum of n numbers : 15\n"
          ]
        }
      ]
    },
    {
      "cell_type": "markdown",
      "source": [
        "Assignment 5.1"
      ],
      "metadata": {
        "id": "UPZE59L9S19x"
      }
    },
    {
      "cell_type": "code",
      "source": [
        "list=[]\n",
        "print(\"Enter any three number\")\n",
        "for i in range(1,4):\n",
        "  list.append(input())\n",
        "print(f\"Maximum number is {max(list)}\")"
      ],
      "metadata": {
        "colab": {
          "base_uri": "https://localhost:8080/"
        },
        "collapsed": true,
        "id": "Oy86b7Q8S9ai",
        "outputId": "e4c90c67-cccf-4cab-fd72-82dd90f9886d"
      },
      "execution_count": 30,
      "outputs": [
        {
          "output_type": "stream",
          "name": "stdout",
          "text": [
            "Enter any three number\n",
            "12\n",
            "34\n",
            "67\n",
            "Maximum number is 67\n"
          ]
        }
      ]
    },
    {
      "cell_type": "markdown",
      "source": [
        "Assignment 5.2"
      ],
      "metadata": {
        "id": "ndIYLxRoTxu8"
      }
    },
    {
      "cell_type": "code",
      "source": [
        "n=int(input(\"Enter any number : \"))\n",
        "sum=0;\n",
        "for i in range(1,n+1):\n",
        "  if i%63==0:\n",
        "    sum=sum+i\n",
        "print(f\"Sum of numbers divisible by 7 ans 9: {sum}\")\n"
      ],
      "metadata": {
        "colab": {
          "base_uri": "https://localhost:8080/"
        },
        "id": "owlKNHRST0Db",
        "outputId": "ae8a7a7f-5ecf-436a-df7e-36c30676232b"
      },
      "execution_count": 7,
      "outputs": [
        {
          "output_type": "stream",
          "name": "stdout",
          "text": [
            "Enter any number : 63\n",
            "Sum of numbers divisible by 7 ans 9: 63\n"
          ]
        }
      ]
    },
    {
      "cell_type": "markdown",
      "source": [
        "Assignment 5.3"
      ],
      "metadata": {
        "id": "DC--_AqGU6O3"
      }
    },
    {
      "cell_type": "code",
      "source": [
        "n=int(input(\"Enter any number : \"))\n",
        "sum=0\n",
        "def isprime(i):\n",
        "  if i==1 or i==2:\n",
        "    return False\n",
        "  for j in range(2,i):\n",
        "    if i%j==0:\n",
        "      return False\n",
        "  return True\n",
        "\n",
        "for i in range(1,n+1):\n",
        "  if isprime(i):\n",
        "    sum=sum+i\n",
        "\n",
        "print(f\"Sum of prime numbers : {sum}\")"
      ],
      "metadata": {
        "colab": {
          "base_uri": "https://localhost:8080/"
        },
        "id": "OnDRsOHgU9n0",
        "outputId": "6b479d3c-c531-4cb2-9d45-6566ed4ac22a"
      },
      "execution_count": 18,
      "outputs": [
        {
          "output_type": "stream",
          "name": "stdout",
          "text": [
            "Enter any number : 20\n",
            "Sum of prime numbers : 75\n"
          ]
        }
      ]
    },
    {
      "cell_type": "markdown",
      "source": [],
      "metadata": {
        "id": "8gHTXf-FmP9V"
      }
    },
    {
      "cell_type": "markdown",
      "source": [
        "Assignment 6.1"
      ],
      "metadata": {
        "id": "VBrWal0ykJqr"
      }
    },
    {
      "cell_type": "code",
      "source": [
        "n=int(input(\"Enter any number : \"))\n",
        "\n",
        "def oddsum(n):\n",
        "  Sum=0\n",
        "  for i in range(1,n+1):\n",
        "    if i%2!=0:\n",
        "      Sum+=i\n",
        "  return Sum\n",
        "\n",
        "print(f\"Sum of odd numbers: {oddsum(n)}\")"
      ],
      "metadata": {
        "colab": {
          "base_uri": "https://localhost:8080/"
        },
        "id": "sSQHqszckLuL",
        "outputId": "f708fd07-3d90-4ccb-b917-f70e0beb61ee"
      },
      "execution_count": 24,
      "outputs": [
        {
          "output_type": "stream",
          "name": "stdout",
          "text": [
            "Enter any number : 10\n",
            "Sum of odd numbers: 25\n"
          ]
        }
      ]
    },
    {
      "cell_type": "markdown",
      "source": [],
      "metadata": {
        "id": "EbY4wetF9BpS"
      }
    },
    {
      "cell_type": "markdown",
      "source": [
        "Assignment 6.2"
      ],
      "metadata": {
        "id": "5Gps5UG3mSFc"
      }
    },
    {
      "cell_type": "code",
      "source": [
        "n=int(input(\"Enter any number : \"))\n",
        "sum=0\n",
        "def isprime(i):\n",
        "  if i==1 or i==2:\n",
        "    return False\n",
        "  for j in range(2,i):\n",
        "    if i%j==0:\n",
        "      return False\n",
        "  return True\n",
        "\n",
        "for i in range(1,n+1):\n",
        "  if isprime(i):\n",
        "    sum=sum+i\n",
        "\n",
        "print(f\"Sum of prime numbers : {sum}\")"
      ],
      "metadata": {
        "colab": {
          "base_uri": "https://localhost:8080/"
        },
        "id": "ZYUUv0zxmYIJ",
        "outputId": "a4ad6f0e-e38a-4194-c967-ccbf5525d748"
      },
      "execution_count": 31,
      "outputs": [
        {
          "output_type": "stream",
          "name": "stdout",
          "text": [
            "Enter any number : 34\n",
            "Sum of prime numbers : 158\n"
          ]
        }
      ]
    }
  ]
}