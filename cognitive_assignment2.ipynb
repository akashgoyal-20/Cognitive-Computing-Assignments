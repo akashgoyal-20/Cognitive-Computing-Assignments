{
  "nbformat": 4,
  "nbformat_minor": 0,
  "metadata": {
    "colab": {
      "provenance": [],
      "authorship_tag": "ABX9TyPK1fFQfLMVWfDPx0UhmvCa",
      "include_colab_link": true
    },
    "kernelspec": {
      "name": "python3",
      "display_name": "Python 3"
    },
    "language_info": {
      "name": "python"
    }
  },
  "cells": [
    {
      "cell_type": "markdown",
      "metadata": {
        "id": "view-in-github",
        "colab_type": "text"
      },
      "source": [
        "<a href=\"https://colab.research.google.com/github/akashgoyal-20/Cognitive-Computing-Assignments/blob/main/cognitive_assignment2.ipynb\" target=\"_parent\"><img src=\"https://colab.research.google.com/assets/colab-badge.svg\" alt=\"Open In Colab\"/></a>"
      ]
    },
    {
      "cell_type": "markdown",
      "source": [
        "Ques 1:"
      ],
      "metadata": {
        "id": "07yJ54wRL-cb"
      }
    },
    {
      "cell_type": "code",
      "source": [
        "L=[10,20,30,40,50,60,70,80]\n",
        "\n",
        "#i.\n",
        "L.extend([200,300])\n",
        "print(L)\n",
        "\n",
        "#ii.\n",
        "L.remove(10)\n",
        "L.remove(30)\n",
        "print(L)\n",
        "\n",
        "#iii.\n",
        "L.sort()\n",
        "print(L)\n",
        "\n",
        "#iv.\n",
        "L.sort(reverse=True)\n",
        "print(L)"
      ],
      "metadata": {
        "colab": {
          "base_uri": "https://localhost:8080/"
        },
        "id": "FlwnU5UnMDmo",
        "outputId": "4c24d75c-5fc1-4e44-dfbf-d962d68dda5e"
      },
      "execution_count": 5,
      "outputs": [
        {
          "output_type": "stream",
          "name": "stdout",
          "text": [
            "[10, 20, 30, 40, 50, 60, 70, 80, 200, 300]\n",
            "[20, 40, 50, 60, 70, 80, 200, 300]\n",
            "[20, 40, 50, 60, 70, 80, 200, 300]\n",
            "[300, 200, 80, 70, 60, 50, 40, 20]\n"
          ]
        }
      ]
    },
    {
      "cell_type": "markdown",
      "source": [
        "Ques 2:"
      ],
      "metadata": {
        "id": "NzXAwK33NZ3u"
      }
    },
    {
      "cell_type": "code",
      "source": [
        "scores = (45,89.5,76,45.4,89,92,58,45)\n",
        "\n",
        "#i.\n",
        "max_item=max(scores)\n",
        "max_index=scores.index(max_item)\n",
        "print(f\"Maximum number is {max_item} at index {max_index}\")\n",
        "\n",
        "#ii.\n",
        "lowest_item=min(scores)\n",
        "count_item=scores.count(lowest_item)\n",
        "print(f\"Lowest number is {lowest_item} and it occurs {count_item} times\")\n",
        "\n",
        "#iii.\n",
        "new_list=list(scores[::-1])\n",
        "print(new_list)\n",
        "\n",
        "#iv.\n",
        "input_item=76\n",
        "if input_item in scores:\n",
        "  input_index=scores.index(input_item)\n",
        "  print(f\"Input item is present at index {input_index}\")\n",
        "else:\n",
        "  print(f\"Input item is absent\")"
      ],
      "metadata": {
        "colab": {
          "base_uri": "https://localhost:8080/"
        },
        "id": "Lt5uJO7RNb12",
        "outputId": "bdbe1f8e-006f-4cba-e759-ce7f2cb212b4"
      },
      "execution_count": 18,
      "outputs": [
        {
          "output_type": "stream",
          "name": "stdout",
          "text": [
            "Maximum number is 92 at index 5\n",
            "Lowest number is 45 and it occurs 2 times\n",
            "[45, 58, 92, 89, 45.4, 76, 89.5, 45]\n",
            "Input item is present at index 2\n"
          ]
        }
      ]
    },
    {
      "cell_type": "markdown",
      "source": [
        "Ques 3:"
      ],
      "metadata": {
        "id": "WPW2JoRIa8m_"
      }
    },
    {
      "cell_type": "code",
      "source": [
        "import random\n",
        "random_number=[]\n",
        "for i in range(0,100):\n",
        "  random_number.append(random.randint(100,900))\n",
        "\n",
        "odd_number=[]\n",
        "count_odd=0\n",
        "count_even=0\n",
        "count_prime=0\n",
        "even_number=[]\n",
        "prime_number=[]\n",
        "\n",
        "\n",
        "for i in random_number:\n",
        "  if i%2==0:\n",
        "    even_number.append(i)\n",
        "    count_even=count_even+1\n",
        "  else:\n",
        "    odd_number.append(i)\n",
        "    count_odd=count_odd+1\n",
        "\n",
        "#i.\n",
        "print(f\"Even numbers are :{even_number}\")\n",
        "print(f\"Number of even number :{count_even}\")\n",
        "\n",
        "#ii.\n",
        "print(f\"Odd numbers are :{odd_number}\")\n",
        "print(f\"Number of odd number :{count_odd}\")\n",
        "\n",
        "#iii.\n",
        "def isprime(i):\n",
        "  if i==1 or i==2:\n",
        "    return False\n",
        "  for j in range(2,i):\n",
        "    if i%j==0:\n",
        "      return False\n",
        "  return True\n",
        "\n",
        "for i in random_number:\n",
        "  if isprime(i):\n",
        "    prime_number.append(i)\n",
        "    count_prime=count_prime+1\n",
        "\n",
        "print(f\"prime numbers are :{prime_number}\")\n",
        "print(f\"Number of prime number :{count_prime}\")\n",
        ""
      ],
      "metadata": {
        "colab": {
          "base_uri": "https://localhost:8080/"
        },
        "id": "weVQLDhURbff",
        "outputId": "76aa5bea-e939-4d90-8c8a-0b281d193c84"
      },
      "execution_count": 25,
      "outputs": [
        {
          "output_type": "stream",
          "name": "stdout",
          "text": [
            "Even numbers are :[524, 108, 472, 866, 216, 724, 134, 362, 454, 386, 112, 258, 160, 676, 492, 810, 260, 614, 332, 614, 780, 866, 388, 354, 598, 198, 776, 508, 350, 264, 106, 450, 490, 430, 378, 730, 240, 264, 844, 228, 506, 630, 594, 212, 748, 782, 280, 210, 766, 308, 234, 626]\n",
            "Number of even number :52\n",
            "Odd numbers are :[435, 281, 867, 803, 661, 753, 441, 855, 383, 829, 593, 245, 695, 129, 761, 173, 815, 153, 709, 101, 739, 365, 897, 855, 577, 499, 141, 683, 865, 319, 599, 677, 531, 411, 615, 633, 591, 407, 645, 201, 845, 177, 251, 717, 183, 297, 595, 107]\n",
            "Number of odd number :48\n",
            "prime numbers are :[281, 661, 383, 829, 593, 761, 173, 709, 101, 739, 577, 499, 683, 599, 677, 251, 107]\n",
            "Number of prime number :17\n"
          ]
        }
      ]
    },
    {
      "cell_type": "markdown",
      "source": [
        "Ques 4:"
      ],
      "metadata": {
        "id": "Z8MEPua2X8aT"
      }
    },
    {
      "cell_type": "code",
      "source": [
        "\n",
        "A = {34, 56, 78, 90}\n",
        "B = {78, 45, 90, 23}\n",
        "\n",
        "# i.\n",
        "union_set = A.union(B)\n",
        "print(f\"Unique scores achieved by both teams: {union_set}\")\n",
        "\n",
        "# ii.\n",
        "intersection_set = A.intersection(B)\n",
        "print(f\"Scores common to both teams: {intersection_set}\")\n",
        "\n",
        "# iii.\n",
        "symmetric_difference_set = A.symmetric_difference(B)\n",
        "print(f\"Scores exclusive to each team: {symmetric_difference_set}\")\n",
        "\n",
        "# iv.\n",
        "is_subset = A.issubset(B)\n",
        "is_superset = B.issuperset(A)\n",
        "print(f\"Team A's scores are a subset of team B: {is_subset}\")\n",
        "print(f\"Team B's scores are a superset of team A: {is_superset}\")\n",
        "\n",
        "# v.\n",
        "X = int(input(\"Enter the score to remove from set A: \"))\n",
        "if X in A:\n",
        "    A.remove(X)\n",
        "    print(f\"Score {X} removed from set A. Updated set A: {A}\")\n",
        "else:\n",
        "    print(f\"Score {X} is not present in set A.\")\n"
      ],
      "metadata": {
        "colab": {
          "base_uri": "https://localhost:8080/"
        },
        "id": "bLQ8wQBsVXr0",
        "outputId": "267fffea-9829-4c38-f052-a3241602b06f"
      },
      "execution_count": 26,
      "outputs": [
        {
          "output_type": "stream",
          "name": "stdout",
          "text": [
            "Unique scores achieved by both teams: {34, 45, 78, 23, 56, 90}\n",
            "Scores common to both teams: {90, 78}\n",
            "Scores exclusive to each team: {34, 45, 23, 56}\n",
            "Team A's scores are a subset of team B: False\n",
            "Team B's scores are a superset of team A: False\n",
            "Enter the score to remove from set A: 34\n",
            "Score 34 removed from set A. Updated set A: {56, 90, 78}\n"
          ]
        }
      ]
    },
    {
      "cell_type": "markdown",
      "source": [
        "Ques 5:"
      ],
      "metadata": {
        "id": "z-_IqNcPZQfT"
      }
    },
    {
      "cell_type": "code",
      "source": [
        "sample_dict={\n",
        "    \"name\":\"kelly\",\n",
        "    \"age\":25,\n",
        "    \"salary\":80000,\n",
        "    \"city\":\"New york\"\n",
        "}\n",
        "sample_dict[\"location\"] = sample_dict[\"city\"]\n",
        "del sample_dict[\"city\"]\n",
        "\n",
        "print(sample_dict)"
      ],
      "metadata": {
        "colab": {
          "base_uri": "https://localhost:8080/"
        },
        "id": "sgkmBU1OZUG9",
        "outputId": "657bd7bc-1e73-46f5-f702-63b35fbad9bf"
      },
      "execution_count": 27,
      "outputs": [
        {
          "output_type": "stream",
          "name": "stdout",
          "text": [
            "{'name': 'kelly', 'age': 25, 'salary': 80000, 'location': 'New york'}\n"
          ]
        }
      ]
    }
  ]
}