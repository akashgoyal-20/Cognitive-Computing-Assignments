{
  "nbformat": 4,
  "nbformat_minor": 0,
  "metadata": {
    "colab": {
      "provenance": [],
      "authorship_tag": "ABX9TyOxQkZEXzHQUzSX0YyEAtM/",
      "include_colab_link": true
    },
    "kernelspec": {
      "name": "python3",
      "display_name": "Python 3"
    },
    "language_info": {
      "name": "python"
    }
  },
  "cells": [
    {
      "cell_type": "markdown",
      "metadata": {
        "id": "view-in-github",
        "colab_type": "text"
      },
      "source": [
        "<a href=\"https://colab.research.google.com/github/akashgoyal-20/Cognitive-Computing-Assignments/blob/main/Cognitive_Computing_Assignment9.ipynb\" target=\"_parent\"><img src=\"https://colab.research.google.com/assets/colab-badge.svg\" alt=\"Open In Colab\"/></a>"
      ]
    },
    {
      "cell_type": "markdown",
      "source": [
        "Ques 1:"
      ],
      "metadata": {
        "id": "6muLeY3AoxLX"
      }
    },
    {
      "cell_type": "code",
      "source": [
        "import nltk\n",
        "from nltk.corpus import stopwords\n",
        "from nltk.tokenize import word_tokenize,sent_tokenize\n",
        "from nltk.probability import FreqDist\n",
        "import string\n",
        "\n",
        "nltk.download('punkt')\n",
        "nltk.download('stopwords');\n",
        "nltk.download('punkt_tab')\n",
        "\n",
        "paragraph = \"\"\"Technology is evolving faster than ever. From smartphones and AI to space exploration and robotics, every innovation is shaping the future.\n",
        "It simplifies tasks, connects people across the globe, and drives efficiency in countless industries.\n",
        "As we become more reliant on digital systems, understanding technology becomes crucial.\n",
        "New breakthroughs continue to amaze and transform the way we live.\n",
        "The possibilities are limitless when imagination meets innovation.\"\"\"\n",
        "\n",
        "clean_paragraph=paragraph.lower()\n",
        "clean_paragraph=clean_paragraph.translate(str.maketrans('','',string.punctuation))\n",
        "\n",
        "print(clean_paragraph)\n",
        "sentence=sent_tokenize(paragraph)\n",
        "words=word_tokenize(paragraph)\n",
        "\n",
        "print(sentence)\n",
        "print(words)\n",
        "\n",
        "stop_words=set(stopwords.words('english'))\n",
        "filtered_words=[word for word in words if word not in stop_words]\n",
        "\n",
        "print(filtered_words)\n",
        "freq_dist = FreqDist(filtered_words)\n",
        "for word, freq in freq_dist.items():\n",
        "    print(f\"{word}: {freq}\")"
      ],
      "metadata": {
        "colab": {
          "base_uri": "https://localhost:8080/"
        },
        "id": "Rbpx7OGMoy6v",
        "outputId": "bf2fd596-a606-46f1-cc6b-169611bc694b"
      },
      "execution_count": 11,
      "outputs": [
        {
          "output_type": "stream",
          "name": "stderr",
          "text": [
            "[nltk_data] Downloading package punkt to /root/nltk_data...\n",
            "[nltk_data]   Package punkt is already up-to-date!\n",
            "[nltk_data] Downloading package stopwords to /root/nltk_data...\n",
            "[nltk_data]   Package stopwords is already up-to-date!\n",
            "[nltk_data] Downloading package punkt_tab to /root/nltk_data...\n",
            "[nltk_data]   Unzipping tokenizers/punkt_tab.zip.\n"
          ]
        },
        {
          "output_type": "stream",
          "name": "stdout",
          "text": [
            "technology is evolving faster than ever from smartphones and ai to space exploration and robotics every innovation is shaping the future\n",
            "it simplifies tasks connects people across the globe and drives efficiency in countless industries\n",
            "as we become more reliant on digital systems understanding technology becomes crucial\n",
            "new breakthroughs continue to amaze and transform the way we live\n",
            "the possibilities are limitless when imagination meets innovation\n",
            "['Technology is evolving faster than ever.', 'From smartphones and AI to space exploration and robotics, every innovation is shaping the future.', 'It simplifies tasks, connects people across the globe, and drives efficiency in countless industries.', 'As we become more reliant on digital systems, understanding technology becomes crucial.', 'New breakthroughs continue to amaze and transform the way we live.', 'The possibilities are limitless when imagination meets innovation.']\n",
            "['Technology', 'is', 'evolving', 'faster', 'than', 'ever', '.', 'From', 'smartphones', 'and', 'AI', 'to', 'space', 'exploration', 'and', 'robotics', ',', 'every', 'innovation', 'is', 'shaping', 'the', 'future', '.', 'It', 'simplifies', 'tasks', ',', 'connects', 'people', 'across', 'the', 'globe', ',', 'and', 'drives', 'efficiency', 'in', 'countless', 'industries', '.', 'As', 'we', 'become', 'more', 'reliant', 'on', 'digital', 'systems', ',', 'understanding', 'technology', 'becomes', 'crucial', '.', 'New', 'breakthroughs', 'continue', 'to', 'amaze', 'and', 'transform', 'the', 'way', 'we', 'live', '.', 'The', 'possibilities', 'are', 'limitless', 'when', 'imagination', 'meets', 'innovation', '.']\n",
            "['Technology', 'evolving', 'faster', 'ever', '.', 'From', 'smartphones', 'AI', 'space', 'exploration', 'robotics', ',', 'every', 'innovation', 'shaping', 'future', '.', 'It', 'simplifies', 'tasks', ',', 'connects', 'people', 'across', 'globe', ',', 'drives', 'efficiency', 'countless', 'industries', '.', 'As', 'become', 'reliant', 'digital', 'systems', ',', 'understanding', 'technology', 'becomes', 'crucial', '.', 'New', 'breakthroughs', 'continue', 'amaze', 'transform', 'way', 'live', '.', 'The', 'possibilities', 'limitless', 'imagination', 'meets', 'innovation', '.']\n",
            "Technology: 1\n",
            "evolving: 1\n",
            "faster: 1\n",
            "ever: 1\n",
            ".: 6\n",
            "From: 1\n",
            "smartphones: 1\n",
            "AI: 1\n",
            "space: 1\n",
            "exploration: 1\n",
            "robotics: 1\n",
            ",: 4\n",
            "every: 1\n",
            "innovation: 2\n",
            "shaping: 1\n",
            "future: 1\n",
            "It: 1\n",
            "simplifies: 1\n",
            "tasks: 1\n",
            "connects: 1\n",
            "people: 1\n",
            "across: 1\n",
            "globe: 1\n",
            "drives: 1\n",
            "efficiency: 1\n",
            "countless: 1\n",
            "industries: 1\n",
            "As: 1\n",
            "become: 1\n",
            "reliant: 1\n",
            "digital: 1\n",
            "systems: 1\n",
            "understanding: 1\n",
            "technology: 1\n",
            "becomes: 1\n",
            "crucial: 1\n",
            "New: 1\n",
            "breakthroughs: 1\n",
            "continue: 1\n",
            "amaze: 1\n",
            "transform: 1\n",
            "way: 1\n",
            "live: 1\n",
            "The: 1\n",
            "possibilities: 1\n",
            "limitless: 1\n",
            "imagination: 1\n",
            "meets: 1\n"
          ]
        }
      ]
    },
    {
      "cell_type": "markdown",
      "source": [
        "Ques 2:"
      ],
      "metadata": {
        "id": "i13HqCde8rOZ"
      }
    },
    {
      "cell_type": "code",
      "source": [
        "import nltk\n",
        "import string\n",
        "from nltk.corpus import stopwords\n",
        "from nltk.tokenize import word_tokenize\n",
        "from nltk.stem import PorterStemmer, LancasterStemmer, WordNetLemmatizer\n",
        "\n",
        "nltk.download('punkt')\n",
        "nltk.download('stopwords')\n",
        "nltk.download('wordnet')\n",
        "\n",
        "text = \"\"\"Technology is evolving faster than ever. From smartphones and AI to space exploration and robotics, every innovation is shaping the future.\n",
        "It simplifies tasks, connects people across the globe, and drives efficiency in countless industries.\n",
        "As we become more reliant on digital systems, understanding technology becomes crucial.\n",
        "New breakthroughs continue to amaze and transform the way we live.\n",
        "The possibilities are limitless when imagination meets innovation.\"\"\"\n",
        "\n",
        "# Preprocessing: lowercase and remove punctuation\n",
        "lower_text = text.lower()\n",
        "cleaned = lower_text.translate(str.maketrans('', '', string.punctuation))\n",
        "\n",
        "# Tokenization and stopword filtering\n",
        "tokens = word_tokenize(cleaned)\n",
        "stop_words = set(stopwords.words('english'))\n",
        "meaningful = [word for word in tokens if word not in stop_words]\n",
        "\n",
        "# Initialize stemmers\n",
        "porter = PorterStemmer()\n",
        "lancaster = LancasterStemmer()\n",
        "\n",
        "# Show stemming results\n",
        "print(\"Stemming Results:\\n\")\n",
        "for w in meaningful:\n",
        "    port_stem = porter.stem(w)\n",
        "    lanc_stem = lancaster.stem(w)\n",
        "    print(f\"{w} -> Porter: {port_stem}, Lancaster: {lanc_stem}\")\n",
        "\n",
        "# Lemmatization\n",
        "print(\"\\nLemmatization Results:\\n\")\n",
        "lemmatizer = WordNetLemmatizer()\n",
        "for w in meaningful:\n",
        "    lemma = lemmatizer.lemmatize(w)\n",
        "    print(f\"{w} -> Lemma: {lemma}\")\n"
      ],
      "metadata": {
        "colab": {
          "base_uri": "https://localhost:8080/"
        },
        "id": "w8w_iMM78sst",
        "outputId": "ebd9ae6b-1ead-489e-dda6-d4272084d3b7"
      },
      "execution_count": 13,
      "outputs": [
        {
          "output_type": "stream",
          "name": "stdout",
          "text": [
            "Stemming Results:\n",
            "\n",
            "technology -> Porter: technolog, Lancaster: technolog\n",
            "evolving -> Porter: evolv, Lancaster: evolv\n",
            "faster -> Porter: faster, Lancaster: fast\n",
            "ever -> Porter: ever, Lancaster: ev\n",
            "smartphones -> Porter: smartphon, Lancaster: smartphon\n",
            "ai -> Porter: ai, Lancaster: ai\n",
            "space -> Porter: space, Lancaster: spac\n",
            "exploration -> Porter: explor, Lancaster: expl\n",
            "robotics -> Porter: robot, Lancaster: robot\n",
            "every -> Porter: everi, Lancaster: every\n",
            "innovation -> Porter: innov, Lancaster: innov\n",
            "shaping -> Porter: shape, Lancaster: shap\n",
            "future -> Porter: futur, Lancaster: fut\n",
            "simplifies -> Porter: simplifi, Lancaster: simpl\n",
            "tasks -> Porter: task, Lancaster: task\n",
            "connects -> Porter: connect, Lancaster: connect\n",
            "people -> Porter: peopl, Lancaster: peopl\n",
            "across -> Porter: across, Lancaster: across\n",
            "globe -> Porter: globe, Lancaster: glob\n",
            "drives -> Porter: drive, Lancaster: driv\n",
            "efficiency -> Porter: effici, Lancaster: efficy\n",
            "countless -> Porter: countless, Lancaster: countless\n",
            "industries -> Porter: industri, Lancaster: industry\n",
            "become -> Porter: becom, Lancaster: becom\n",
            "reliant -> Porter: reliant, Lancaster: rely\n",
            "digital -> Porter: digit, Lancaster: digit\n",
            "systems -> Porter: system, Lancaster: system\n",
            "understanding -> Porter: understand, Lancaster: understand\n",
            "technology -> Porter: technolog, Lancaster: technolog\n",
            "becomes -> Porter: becom, Lancaster: becom\n",
            "crucial -> Porter: crucial, Lancaster: cruc\n",
            "new -> Porter: new, Lancaster: new\n",
            "breakthroughs -> Porter: breakthrough, Lancaster: breakthrough\n",
            "continue -> Porter: continu, Lancaster: continu\n",
            "amaze -> Porter: amaz, Lancaster: amaz\n",
            "transform -> Porter: transform, Lancaster: transform\n",
            "way -> Porter: way, Lancaster: way\n",
            "live -> Porter: live, Lancaster: liv\n",
            "possibilities -> Porter: possibl, Lancaster: poss\n",
            "limitless -> Porter: limitless, Lancaster: limitless\n",
            "imagination -> Porter: imagin, Lancaster: imagin\n",
            "meets -> Porter: meet, Lancaster: meet\n",
            "innovation -> Porter: innov, Lancaster: innov\n",
            "\n",
            "Lemmatization Results:\n",
            "\n",
            "technology -> Lemma: technology\n",
            "evolving -> Lemma: evolving\n",
            "faster -> Lemma: faster\n",
            "ever -> Lemma: ever\n",
            "smartphones -> Lemma: smartphones\n",
            "ai -> Lemma: ai\n",
            "space -> Lemma: space\n",
            "exploration -> Lemma: exploration\n",
            "robotics -> Lemma: robotics\n",
            "every -> Lemma: every\n",
            "innovation -> Lemma: innovation\n",
            "shaping -> Lemma: shaping\n",
            "future -> Lemma: future\n",
            "simplifies -> Lemma: simplifies\n",
            "tasks -> Lemma: task\n",
            "connects -> Lemma: connects\n",
            "people -> Lemma: people\n",
            "across -> Lemma: across\n",
            "globe -> Lemma: globe\n",
            "drives -> Lemma: drive\n",
            "efficiency -> Lemma: efficiency\n",
            "countless -> Lemma: countless\n",
            "industries -> Lemma: industry\n",
            "become -> Lemma: become\n",
            "reliant -> Lemma: reliant\n",
            "digital -> Lemma: digital\n",
            "systems -> Lemma: system\n",
            "understanding -> Lemma: understanding\n",
            "technology -> Lemma: technology\n",
            "becomes -> Lemma: becomes\n",
            "crucial -> Lemma: crucial\n",
            "new -> Lemma: new\n",
            "breakthroughs -> Lemma: breakthrough\n",
            "continue -> Lemma: continue\n",
            "amaze -> Lemma: amaze\n",
            "transform -> Lemma: transform\n",
            "way -> Lemma: way\n",
            "live -> Lemma: live\n",
            "possibilities -> Lemma: possibility\n",
            "limitless -> Lemma: limitless\n",
            "imagination -> Lemma: imagination\n",
            "meets -> Lemma: meet\n",
            "innovation -> Lemma: innovation\n"
          ]
        },
        {
          "output_type": "stream",
          "name": "stderr",
          "text": [
            "[nltk_data] Downloading package punkt to /root/nltk_data...\n",
            "[nltk_data]   Package punkt is already up-to-date!\n",
            "[nltk_data] Downloading package stopwords to /root/nltk_data...\n",
            "[nltk_data]   Package stopwords is already up-to-date!\n",
            "[nltk_data] Downloading package wordnet to /root/nltk_data...\n",
            "[nltk_data]   Package wordnet is already up-to-date!\n"
          ]
        }
      ]
    },
    {
      "cell_type": "markdown",
      "source": [
        "Ques 3:"
      ],
      "metadata": {
        "id": "CodAHfIC9HU2"
      }
    },
    {
      "cell_type": "code",
      "source": [
        "import re\n",
        "\n",
        "text = \"\"\"Technology is evolving faster than ever. From smartphones and AI to space exploration and robotics, every innovation is shaping the future.\n",
        "It simplifies tasks, connects people across the globe, and drives efficiency in countless industries.\n",
        "As we become more reliant on digital systems, understanding technology becomes crucial.\n",
        "New breakthroughs continue to amaze and transform the way we live.\n",
        "The possibilities are limitless when imagination meets innovation.\"\"\"\n",
        "\n",
        "\n",
        "long_words = re.findall(r'\\b[a-zA-Z]{6,}\\b', text)\n",
        "print(\"Words longer than 5 letters:\")\n",
        "print(long_words)\n",
        "\n",
        "\n",
        "digits = re.findall(r'\\b\\d+\\b', text)\n",
        "print(\"\\nNumbers found:\")\n",
        "print(digits)\n",
        "\n",
        "\n",
        "capital_words = re.findall(r'\\b[A-Z][a-zA-Z]*\\b', text)\n",
        "print(\"\\nCapitalized words:\")\n",
        "print(capital_words)\n",
        "\n",
        "\n",
        "all_words = re.findall(r'\\b[a-zA-Z]+\\b', text)\n",
        "print(\"\\nAll words:\")\n",
        "print(all_words)\n",
        "\n",
        "\n",
        "vowel_start = [w for w in all_words if re.match(r'^[aeiouAEIOU]', w)]\n",
        "print(\"\\nWords starting with a vowel:\")\n",
        "print(vowel_start)\n"
      ],
      "metadata": {
        "colab": {
          "base_uri": "https://localhost:8080/"
        },
        "id": "sEUockAZ9Is4",
        "outputId": "29d226f5-4938-4522-a0a3-919dd698fb26"
      },
      "execution_count": 15,
      "outputs": [
        {
          "output_type": "stream",
          "name": "stdout",
          "text": [
            "Words longer than 5 letters:\n",
            "['Technology', 'evolving', 'faster', 'smartphones', 'exploration', 'robotics', 'innovation', 'shaping', 'future', 'simplifies', 'connects', 'people', 'across', 'drives', 'efficiency', 'countless', 'industries', 'become', 'reliant', 'digital', 'systems', 'understanding', 'technology', 'becomes', 'crucial', 'breakthroughs', 'continue', 'transform', 'possibilities', 'limitless', 'imagination', 'innovation']\n",
            "\n",
            "Numbers found:\n",
            "[]\n",
            "\n",
            "Capitalized words:\n",
            "['Technology', 'From', 'AI', 'It', 'As', 'New', 'The']\n",
            "\n",
            "All words:\n",
            "['Technology', 'is', 'evolving', 'faster', 'than', 'ever', 'From', 'smartphones', 'and', 'AI', 'to', 'space', 'exploration', 'and', 'robotics', 'every', 'innovation', 'is', 'shaping', 'the', 'future', 'It', 'simplifies', 'tasks', 'connects', 'people', 'across', 'the', 'globe', 'and', 'drives', 'efficiency', 'in', 'countless', 'industries', 'As', 'we', 'become', 'more', 'reliant', 'on', 'digital', 'systems', 'understanding', 'technology', 'becomes', 'crucial', 'New', 'breakthroughs', 'continue', 'to', 'amaze', 'and', 'transform', 'the', 'way', 'we', 'live', 'The', 'possibilities', 'are', 'limitless', 'when', 'imagination', 'meets', 'innovation']\n",
            "\n",
            "Words starting with a vowel:\n",
            "['is', 'evolving', 'ever', 'and', 'AI', 'exploration', 'and', 'every', 'innovation', 'is', 'It', 'across', 'and', 'efficiency', 'in', 'industries', 'As', 'on', 'understanding', 'amaze', 'and', 'are', 'imagination', 'innovation']\n"
          ]
        }
      ]
    },
    {
      "cell_type": "markdown",
      "source": [
        "Ques 4:"
      ],
      "metadata": {
        "id": "PF06IdTl90pt"
      }
    },
    {
      "cell_type": "code",
      "source": [
        "import re\n",
        "\n",
        "content = \"\"\"Technology is evolving faster than ever. From smartphones and AI to space exploration and robotics, every innovation is shaping the future.\n",
        "It simplifies tasks, connects people across the globe, and drives efficiency in countless industries.\n",
        "As we become more reliant on digital systems, understanding technology becomes crucial.\n",
        "New breakthroughs continue to amaze and transform the way we live.\n",
        "The possibilities are limitless when imagination meets innovation.\"\"\"\n",
        "\n",
        "def tokenize_text(text):\n",
        "    cleaned = re.sub(r\"[^\\w\\s'-]\", '', text)\n",
        "    cleaned = re.sub(r'(\\w+)-(\\w+)', r'\\1', cleaned)\n",
        "    cleaned = re.sub(r'(\\d+\\.\\d+|\\d+)', r'\\1', cleaned)\n",
        "    return cleaned.split()\n",
        "\n",
        "tokens = tokenize_text(content)\n",
        "print(\"Custom Tokens:\\n\", tokens)\n",
        "\n",
        "sensitive_data = \"\"\"\n",
        "You can reach me at abc@gmail.com or visit https://www.example.com for more details.\n",
        "My phone number is 123-456-7890 or you can contact me via +91 9876543210.\n",
        "\"\"\"\n",
        "\n",
        "def anonymize(text):\n",
        "    text = re.sub(r'[a-zA-Z0-9._%+-]+@[a-zA-Z0-9.-]+\\.[a-zA-Z]{2,}', '', text)\n",
        "    text = re.sub(r'https?://\\S+', '', text)\n",
        "    text = re.sub(r'(\\+?\\d{1,3}[\\s-]?\\d{3}[\\s-]?\\d{4,})', '', text)\n",
        "    return text\n",
        "\n",
        "clean_version = anonymize(sensitive_data)\n",
        "print(\"\\nSanitized Text:\\n\", clean_version)\n"
      ],
      "metadata": {
        "colab": {
          "base_uri": "https://localhost:8080/"
        },
        "id": "Ah38jeg_913t",
        "outputId": "80915add-5c6f-4544-9bbe-fe3d5d3288df"
      },
      "execution_count": 17,
      "outputs": [
        {
          "output_type": "stream",
          "name": "stdout",
          "text": [
            "Custom Tokens:\n",
            " ['Technology', 'is', 'evolving', 'faster', 'than', 'ever', 'From', 'smartphones', 'and', 'AI', 'to', 'space', 'exploration', 'and', 'robotics', 'every', 'innovation', 'is', 'shaping', 'the', 'future', 'It', 'simplifies', 'tasks', 'connects', 'people', 'across', 'the', 'globe', 'and', 'drives', 'efficiency', 'in', 'countless', 'industries', 'As', 'we', 'become', 'more', 'reliant', 'on', 'digital', 'systems', 'understanding', 'technology', 'becomes', 'crucial', 'New', 'breakthroughs', 'continue', 'to', 'amaze', 'and', 'transform', 'the', 'way', 'we', 'live', 'The', 'possibilities', 'are', 'limitless', 'when', 'imagination', 'meets', 'innovation']\n",
            "\n",
            "Sanitized Text:\n",
            " \n",
            "You can reach me at  or visit  for more details.\n",
            "My phone number is  or you can contact me via .\n",
            "\n"
          ]
        }
      ]
    }
  ]
}