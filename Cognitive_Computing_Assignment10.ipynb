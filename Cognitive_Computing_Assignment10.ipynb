{
  "nbformat": 4,
  "nbformat_minor": 0,
  "metadata": {
    "colab": {
      "provenance": [],
      "authorship_tag": "ABX9TyM25vTsUXmKVAMDD0WGsn5/",
      "include_colab_link": true
    },
    "kernelspec": {
      "name": "python3",
      "display_name": "Python 3"
    },
    "language_info": {
      "name": "python"
    }
  },
  "cells": [
    {
      "cell_type": "markdown",
      "metadata": {
        "id": "view-in-github",
        "colab_type": "text"
      },
      "source": [
        "<a href=\"https://colab.research.google.com/github/akashgoyal-20/Cognitive-Computing-Assignments/blob/main/Cognitive_Computing_Assignment10.ipynb\" target=\"_parent\"><img src=\"https://colab.research.google.com/assets/colab-badge.svg\" alt=\"Open In Colab\"/></a>"
      ]
    },
    {
      "cell_type": "markdown",
      "source": [
        "Question 1:"
      ],
      "metadata": {
        "id": "mumVgbTqHwq1"
      }
    },
    {
      "cell_type": "code",
      "execution_count": 4,
      "metadata": {
        "colab": {
          "base_uri": "https://localhost:8080/"
        },
        "id": "VDyMvEVTAynu",
        "outputId": "9d722003-b3ce-4ef8-e227-57d7a4fc9a9e"
      },
      "outputs": [
        {
          "output_type": "stream",
          "name": "stderr",
          "text": [
            "[nltk_data] Downloading package punkt to /root/nltk_data...\n",
            "[nltk_data]   Unzipping tokenizers/punkt.zip.\n",
            "[nltk_data] Downloading package stopwords to /root/nltk_data...\n",
            "[nltk_data]   Unzipping corpora/stopwords.zip.\n",
            "[nltk_data] Downloading package punkt_tab to /root/nltk_data...\n",
            "[nltk_data]   Unzipping tokenizers/punkt_tab.zip.\n"
          ]
        },
        {
          "output_type": "stream",
          "name": "stdout",
          "text": [
            "Artificial Intelligence is transforming industries worldwide \n",
            "It enables machines to learn from data and make decisions \n",
            "From healthcare to finance AI is driving efficiency\n",
            "['Artificial', 'Intelligence', 'is', 'transforming', 'industries', 'worldwide', 'It', 'enables', 'machines', 'to', 'learn', 'from', 'data', 'and', 'make', 'decisions', 'From', 'healthcare', 'to', 'finance', 'AI', 'is', 'driving', 'efficiency']\n",
            "['Artificial', 'Intelligence', 'is', 'transforming', 'industries', 'worldwide', '.', 'It', 'enables', 'machines', 'to', 'learn', 'from', 'data', 'and', 'make', 'decisions', '.', 'From', 'healthcare', 'to', 'finance', ',', 'AI', 'is', 'driving', 'efficiency']\n",
            "['Artificial Intelligence is transforming industries worldwide.', 'It enables machines to learn from data and make decisions.', 'From healthcare to finance, AI is driving efficiency']\n",
            "['Artificial', 'Intelligence', 'transforming', 'industries', 'worldwide', '.', 'It', 'enables', 'machines', 'learn', 'data', 'make', 'decisions', '.', 'From', 'healthcare', 'finance', ',', 'AI', 'driving', 'efficiency']\n",
            "Artificial: 1\n",
            "Intelligence: 1\n",
            "transforming: 1\n",
            "industries: 1\n",
            "worldwide: 1\n",
            ".: 2\n",
            "It: 1\n",
            "enables: 1\n",
            "machines: 1\n",
            "learn: 1\n",
            "data: 1\n",
            "make: 1\n",
            "decisions: 1\n",
            "From: 1\n",
            "healthcare: 1\n",
            "finance: 1\n",
            ",: 1\n",
            "AI: 1\n",
            "driving: 1\n",
            "efficiency: 1\n"
          ]
        }
      ],
      "source": [
        "import re\n",
        "import nltk\n",
        "from nltk.corpus import stopwords\n",
        "from nltk.tokenize import word_tokenize,sent_tokenize\n",
        "from nltk.probability import FreqDist\n",
        "nltk.download('punkt')\n",
        "nltk.download('stopwords')\n",
        "nltk.download('punkt_tab')\n",
        "\n",
        "text = \"\"\"Artificial Intelligence is transforming industries worldwide.\n",
        "It enables machines to learn from data and make decisions.\n",
        "From healthcare to finance, AI is driving efficiency\"\"\"\n",
        "\n",
        "clean_text=text.lower()\n",
        "clean_text=re.sub(r'[^\\w\\s]','',text)\n",
        "print(clean_text)\n",
        "words=word_tokenize(text)\n",
        "sentence=sent_tokenize(text)\n",
        "\n",
        "split_words=clean_text.split()\n",
        "print(split_words)\n",
        "print(words)\n",
        "print(sentence)\n",
        "\n",
        "stop_words=set(stopwords.words('english'))\n",
        "filtered_words=[word for word in words if word not in stop_words]\n",
        "print(filtered_words)\n",
        "freq_dist = FreqDist(filtered_words)\n",
        "for word, freq in freq_dist.items():\n",
        "    print(f\"{word}: {freq}\")"
      ]
    },
    {
      "cell_type": "markdown",
      "source": [
        "Question 2:"
      ],
      "metadata": {
        "id": "dSi3JLzJDUGG"
      }
    },
    {
      "cell_type": "code",
      "source": [
        "from nltk.stem import PorterStemmer\n",
        "from nltk.stem import WordNetLemmatizer\n",
        "import nltk\n",
        "nltk.download('wordnet')\n",
        "\n",
        "text = \"\"\"Artificial Intelligence is transforming industries worldwide.\n",
        "It enables machines to learn from data and make decisions.\n",
        "From healthcare to finance, AI is driving efficiency\"\"\"\n",
        "\n",
        "clean_text = re.sub(r'[^\\w\\s]','',text.lower())\n",
        "alpha_words = re.findall(r'\\b[a-z]+\\b',clean_text)\n",
        "words_tokenized = word_tokenize(clean_text)\n",
        "print(words_tokenized)\n",
        "\n",
        "stop_words = set(stopwords.words('english'))\n",
        "filtered_words = [w for w in words_tokenized if w not in stop_words]\n",
        "print(filtered_words)\n",
        "\n",
        "stemmer = PorterStemmer()\n",
        "stemmed = [stemmer.stem(w) for w in filtered_words]\n",
        "print(stemmed)\n",
        "\n",
        "lemmatize = WordNetLemmatizer()\n",
        "lemmatized = [lemmatize.lemmatize(w) for w in filtered_words]\n",
        "print(lemmatized)\n"
      ],
      "metadata": {
        "colab": {
          "base_uri": "https://localhost:8080/"
        },
        "id": "_ymFHz8qDXRH",
        "outputId": "732fdb59-ec88-48ef-f46d-d82df6288ce2"
      },
      "execution_count": 10,
      "outputs": [
        {
          "output_type": "stream",
          "name": "stderr",
          "text": [
            "[nltk_data] Downloading package wordnet to /root/nltk_data...\n"
          ]
        },
        {
          "output_type": "stream",
          "name": "stdout",
          "text": [
            "['artificial', 'intelligence', 'is', 'transforming', 'industries', 'worldwide', 'it', 'enables', 'machines', 'to', 'learn', 'from', 'data', 'and', 'make', 'decisions', 'from', 'healthcare', 'to', 'finance', 'ai', 'is', 'driving', 'efficiency']\n",
            "['artificial', 'intelligence', 'transforming', 'industries', 'worldwide', 'enables', 'machines', 'learn', 'data', 'make', 'decisions', 'healthcare', 'finance', 'ai', 'driving', 'efficiency']\n",
            "['artifici', 'intellig', 'transform', 'industri', 'worldwid', 'enabl', 'machin', 'learn', 'data', 'make', 'decis', 'healthcar', 'financ', 'ai', 'drive', 'effici']\n",
            "['artificial', 'intelligence', 'transforming', 'industry', 'worldwide', 'enables', 'machine', 'learn', 'data', 'make', 'decision', 'healthcare', 'finance', 'ai', 'driving', 'efficiency']\n"
          ]
        }
      ]
    },
    {
      "cell_type": "markdown",
      "source": [
        "Question 3:"
      ],
      "metadata": {
        "id": "xjcehFBQEbok"
      }
    },
    {
      "cell_type": "code",
      "source": [
        "from sklearn.feature_extraction.text import CountVectorizer, TfidfVectorizer\n",
        "import numpy as np\n",
        "\n",
        "texts = [\n",
        "  \" New Cancer Treatment Shows Promise\"\n",
        "  \"Tech Giant Unveils Foldable Phone\"\n",
        "  \"Local Park Reopens After Renovation\"\n",
        "]\n",
        "count_vector=CountVectorizer()\n",
        "bow_matrix=count_vector.fit_transform(texts)\n",
        "print(f\"Bag of Words -> {count_vector.get_feature_names_out()}\")\n",
        "\n",
        "tfidf=TfidfVectorizer()\n",
        "tfidfmatrix=tfidf.fit_transform(texts)\n",
        "print(f\"TF-IDF -> {tfidf.get_feature_names_out()}\")\n",
        "print(tfidfmatrix.toarray())\n",
        "for i,row in enumerate(tfidfmatrix.toarray()):\n",
        "  top_idx=row.argsort()[-3:][::-1]\n",
        "  keywords=[(tfidf.get_feature_names_out()[idx],row[idx]) for idx in top_idx]\n",
        "  print(keywords)"
      ],
      "metadata": {
        "colab": {
          "base_uri": "https://localhost:8080/"
        },
        "id": "HDfD40A6EeYk",
        "outputId": "145d0281-a140-4c27-ef7d-0eceff84695c"
      },
      "execution_count": 11,
      "outputs": [
        {
          "output_type": "stream",
          "name": "stdout",
          "text": [
            "Bag of Words -> ['after' 'cancer' 'foldable' 'giant' 'new' 'park' 'phonelocal'\n",
            " 'promisetech' 'renovation' 'reopens' 'shows' 'treatment' 'unveils']\n",
            "TF-IDF -> ['after' 'cancer' 'foldable' 'giant' 'new' 'park' 'phonelocal'\n",
            " 'promisetech' 'renovation' 'reopens' 'shows' 'treatment' 'unveils']\n",
            "[[0.2773501 0.2773501 0.2773501 0.2773501 0.2773501 0.2773501 0.2773501\n",
            "  0.2773501 0.2773501 0.2773501 0.2773501 0.2773501 0.2773501]]\n",
            "[('unveils', np.float64(0.2773500981126146)), ('treatment', np.float64(0.2773500981126146)), ('shows', np.float64(0.2773500981126146))]\n"
          ]
        }
      ]
    },
    {
      "cell_type": "markdown",
      "source": [
        "Question 4:"
      ],
      "metadata": {
        "id": "E5HZOLYdFN7n"
      }
    },
    {
      "cell_type": "code",
      "source": [
        "from sklearn.feature_extraction.text import TfidfVectorizer\n",
        "from sklearn.metrics.pairwise import cosine_similarity\n",
        "from nltk import jaccard_distance\n",
        "\n",
        "text1 = \"AI systems use algorithms to analyze data, recognize patterns, and make decisions with minimal human intervention. Modern AI leverages neural networks to perform tasks like language translation, medical diagnosis, and autonomous driving. As computing power increases, AI continues to advance in capabilities, though ethical concerns about privacy, bias, and job displacement remain significant challenges for widespread implementation.\"\n",
        "text2 = \"Blockchain is a distributed ledger technology that records transactions across multiple computers, ensuring data cannot be altered retroactively without consensus. Each block contains a timestamp and link to the previous block, creating an immutable chain of information. Originally developed for cryptocurrencies like Bitcoin, blockchain applications now extend to supply chain management, voting systems, and smart contracts. Its decentralized nature eliminates the need for central authorities while providing transparency and security.\"\n",
        "\n",
        "clean_text1 = re.sub(r'[^\\w\\s]','',text1.lower())\n",
        "words_tokenized1 = word_tokenize(clean_text1)\n",
        "print(words_tokenized1)\n",
        "clean_text2 = re.sub(r'[^\\w\\s]','',text2.lower())\n",
        "words_tokenized2 = word_tokenize(clean_text2)\n",
        "print(words_tokenized2)\n",
        "\n",
        "set1 = set(text1.split())\n",
        "set2 = set(text2.split())\n",
        "jaccard_sim = 1 - jaccard_distance(set1,set2)\n",
        "print(jaccard_sim)\n",
        "\n",
        "\n",
        "vectorizer = TfidfVectorizer()\n",
        "tfidf_matrix = vectorizer.fit_transform([text1,text2])\n",
        "cosine_sim = cosine_similarity(tfidf_matrix[0:1],tfidf_matrix[1:2])[0][0]\n",
        "print(cosine_sim)\n"
      ],
      "metadata": {
        "colab": {
          "base_uri": "https://localhost:8080/"
        },
        "id": "FCntKiJnFP_e",
        "outputId": "f13c5aa6-4556-472c-f48f-b5e07227e46b"
      },
      "execution_count": 12,
      "outputs": [
        {
          "output_type": "stream",
          "name": "stdout",
          "text": [
            "['ai', 'systems', 'use', 'algorithms', 'to', 'analyze', 'data', 'recognize', 'patterns', 'and', 'make', 'decisions', 'with', 'minimal', 'human', 'intervention', 'modern', 'ai', 'leverages', 'neural', 'networks', 'to', 'perform', 'tasks', 'like', 'language', 'translation', 'medical', 'diagnosis', 'and', 'autonomous', 'driving', 'as', 'computing', 'power', 'increases', 'ai', 'continues', 'to', 'advance', 'in', 'capabilities', 'though', 'ethical', 'concerns', 'about', 'privacy', 'bias', 'and', 'job', 'displacement', 'remain', 'significant', 'challenges', 'for', 'widespread', 'implementation']\n",
            "['blockchain', 'is', 'a', 'distributed', 'ledger', 'technology', 'that', 'records', 'transactions', 'across', 'multiple', 'computers', 'ensuring', 'data', 'can', 'not', 'be', 'altered', 'retroactively', 'without', 'consensus', 'each', 'block', 'contains', 'a', 'timestamp', 'and', 'link', 'to', 'the', 'previous', 'block', 'creating', 'an', 'immutable', 'chain', 'of', 'information', 'originally', 'developed', 'for', 'cryptocurrencies', 'like', 'bitcoin', 'blockchain', 'applications', 'now', 'extend', 'to', 'supply', 'chain', 'management', 'voting', 'systems', 'and', 'smart', 'contracts', 'its', 'decentralized', 'nature', 'eliminates', 'the', 'need', 'for', 'central', 'authorities', 'while', 'providing', 'transparency', 'and', 'security']\n",
            "0.036363636363636376\n",
            "0.14490086748058847\n"
          ]
        }
      ]
    },
    {
      "cell_type": "markdown",
      "source": [
        "Question 5"
      ],
      "metadata": {
        "id": "BjUityBYGOED"
      }
    },
    {
      "cell_type": "code",
      "source": [
        "\n",
        "from textblob import TextBlob\n",
        "from wordcloud import WordCloud\n",
        "\n",
        "review = \"Exceptional sound quality with powerful bass and clear highs. Comfortable fit even during long sessions.\"\n",
        "\n",
        "blob = TextBlob(review)\n",
        "polarity = blob.sentiment.polarity\n",
        "print(polarity)\n",
        "subjectivity = blob.sentiment.subjectivity\n",
        "print(subjectivity)\n",
        "\n",
        "if polarity > 0.1:\n",
        "    sentiment = \"Positive\"\n",
        "elif polarity < -0.1:\n",
        "    sentiment = \"Negative\"\n",
        "else:\n",
        "    sentiment = \"Neutral\"\n",
        "print(sentiment)\n",
        "\n",
        "wordcloud = WordCloud().generate(review)\n",
        "wordcloud.to_image()"
      ],
      "metadata": {
        "colab": {
          "base_uri": "https://localhost:8080/",
          "height": 272
        },
        "id": "RjEHTKuxGQZR",
        "outputId": "d78a1163-ffc7-45a9-9374-e613250e7047"
      },
      "execution_count": 14,
      "outputs": [
        {
          "output_type": "stream",
          "name": "stdout",
          "text": [
            "0.25833333333333336\n",
            "0.6104166666666667\n",
            "Positive\n"
          ]
        },
        {
          "output_type": "execute_result",
          "data": {
            "text/plain": [
              "<PIL.Image.Image image mode=RGB size=400x200>"
            ],
            "image/png": "[encoded data removed]",
            "image/jpeg": "[encoded data removed]"
          },
          "metadata": {},
          "execution_count": 14
        }
      ]
    },
    {
      "cell_type": "markdown",
      "source": [
        "Question 6:"
      ],
      "metadata": {
        "id": "Svi7T54sG46W"
      }
    },
    {
      "cell_type": "code",
      "source": [
        "from tensorflow import keras\n",
        "from tensorflow.keras.preprocessing.text import Tokenizer\n",
        "from tensorflow.keras.preprocessing.sequence import pad_sequences\n",
        "from tensorflow.keras.models import Sequential\n",
        "from tensorflow.keras.layers import Embedding,LSTM,Dense\n",
        "import numpy as np\n",
        "\n",
        "tokenizer = Tokenizer()\n",
        "text = \"\"\"Artificial Intelligence is transforming industries worldwide.\n",
        "It enables machines to learn from data and make decisions.\n",
        "From healthcare to finance, AI is driving efficiency\"\"\"\n",
        "\n",
        "tokenizer.fit_on_texts([text])\n",
        "total_words = len(tokenizer.word_index)+1\n",
        "print(total_words)\n",
        "\n",
        "input_sequences = []\n",
        "for line in text.split('.'):\n",
        "    token_list = tokenizer.texts_to_sequences([line])[0]\n",
        "    for i in range(1,len(token_list)):\n",
        "        n_gram_sequence = token_list[:i+1]\n",
        "        input_sequences.append(n_gram_sequence)\n",
        "\n",
        "max_sequence_len = max([len(x) for x in input_sequences])\n",
        "input_sequences = pad_sequences(input_sequences,maxlen=max_sequence_len,padding='pre')\n",
        "\n",
        "X = input_sequences[:,:-1]\n",
        "y = input_sequences[:,-1]\n",
        "y = np.array([np.eye(total_words)[i] for i in y])\n",
        "\n",
        "model = Sequential()\n",
        "model.add(Embedding(total_words,64,input_length=max_sequence_len-1))\n",
        "model.add(LSTM(100))\n",
        "model.add(Dense(total_words,activation='softmax'))\n",
        "model.compile(loss='categorical_crossentropy',optimizer='adam',metrics=['accuracy'])\n",
        "\n",
        "model.fit(X,y,epochs=50,verbose=1)\n",
        "def generate_text(seed_text,next_words):\n",
        "    for _ in range(next_words):\n",
        "        token_list = tokenizer.texts_to_sequences([seed_text])[0]\n",
        "        token_list = pad_sequences([token_list],maxlen=max_sequence_len-1,padding='pre')\n",
        "        predicted = np.argmax(model.predict(token_list),axis=-1)\n",
        "        output_word = \"\"\n",
        "        for word,index in tokenizer.word_index.items():\n",
        "            if index == predicted:\n",
        "                output_word = word\n",
        "                break\n",
        "        seed_text += \" \"+output_word\n",
        "    return seed_text\n",
        "\n",
        "print(generate_text(\"Human\",5))\n",
        "print(generate_text(\"Space\",6))\n",
        "print(generate_text(\"Future\",4))"
      ],
      "metadata": {
        "colab": {
          "base_uri": "https://localhost:8080/"
        },
        "id": "8IhFmffWG64q",
        "outputId": "74a730cb-066f-4ffe-800a-76233c898e76"
      },
      "execution_count": 15,
      "outputs": [
        {
          "output_type": "stream",
          "name": "stdout",
          "text": [
            "22\n",
            "Epoch 1/50\n"
          ]
        },
        {
          "output_type": "stream",
          "name": "stderr",
          "text": [
            "/usr/local/lib/python3.11/dist-packages/keras/src/layers/core/embedding.py:90: UserWarning: Argument `input_length` is deprecated. Just remove it.\n",
            "  warnings.warn(\n"
          ]
        },
        {
          "output_type": "stream",
          "name": "stdout",
          "text": [
            "\u001b[1m1/1\u001b[0m \u001b[32m━━━━━━━━━━━━━━━━━━━━\u001b[0m\u001b[37m\u001b[0m \u001b[1m3s\u001b[0m 3s/step - accuracy: 0.0476 - loss: 3.0898\n",
            "Epoch 2/50\n",
            "\u001b[1m1/1\u001b[0m \u001b[32m━━━━━━━━━━━━━━━━━━━━\u001b[0m\u001b[37m\u001b[0m \u001b[1m0s\u001b[0m 55ms/step - accuracy: 0.1905 - loss: 3.0839\n",
            "Epoch 3/50\n",
            "\u001b[1m1/1\u001b[0m \u001b[32m━━━━━━━━━━━━━━━━━━━━\u001b[0m\u001b[37m\u001b[0m \u001b[1m0s\u001b[0m 62ms/step - accuracy: 0.1905 - loss: 3.0780\n",
            "Epoch 4/50\n",
            "\u001b[1m1/1\u001b[0m \u001b[32m━━━━━━━━━━━━━━━━━━━━\u001b[0m\u001b[37m\u001b[0m \u001b[1m0s\u001b[0m 56ms/step - accuracy: 0.1429 - loss: 3.0718\n",
            "Epoch 5/50\n",
            "\u001b[1m1/1\u001b[0m \u001b[32m━━━━━━━━━━━━━━━━━━━━\u001b[0m\u001b[37m\u001b[0m \u001b[1m0s\u001b[0m 59ms/step - accuracy: 0.1429 - loss: 3.0653\n",
            "Epoch 6/50\n",
            "\u001b[1m1/1\u001b[0m \u001b[32m━━━━━━━━━━━━━━━━━━━━\u001b[0m\u001b[37m\u001b[0m \u001b[1m0s\u001b[0m 138ms/step - accuracy: 0.1429 - loss: 3.0583\n",
            "Epoch 7/50\n",
            "\u001b[1m1/1\u001b[0m \u001b[32m━━━━━━━━━━━━━━━━━━━━\u001b[0m\u001b[37m\u001b[0m \u001b[1m0s\u001b[0m 59ms/step - accuracy: 0.1429 - loss: 3.0506\n",
            "Epoch 8/50\n",
            "\u001b[1m1/1\u001b[0m \u001b[32m━━━━━━━━━━━━━━━━━━━━\u001b[0m\u001b[37m\u001b[0m \u001b[1m0s\u001b[0m 54ms/step - accuracy: 0.1429 - loss: 3.0420\n",
            "Epoch 9/50\n",
            "\u001b[1m1/1\u001b[0m \u001b[32m━━━━━━━━━━━━━━━━━━━━\u001b[0m\u001b[37m\u001b[0m \u001b[1m0s\u001b[0m 58ms/step - accuracy: 0.1429 - loss: 3.0322\n",
            "Epoch 10/50\n",
            "\u001b[1m1/1\u001b[0m \u001b[32m━━━━━━━━━━━━━━━━━━━━\u001b[0m\u001b[37m\u001b[0m \u001b[1m0s\u001b[0m 143ms/step - accuracy: 0.1429 - loss: 3.0211\n",
            "Epoch 11/50\n",
            "\u001b[1m1/1\u001b[0m \u001b[32m━━━━━━━━━━━━━━━━━━━━\u001b[0m\u001b[37m\u001b[0m \u001b[1m0s\u001b[0m 57ms/step - accuracy: 0.1429 - loss: 3.0081\n",
            "Epoch 12/50\n",
            "\u001b[1m1/1\u001b[0m \u001b[32m━━━━━━━━━━━━━━━━━━━━\u001b[0m\u001b[37m\u001b[0m \u001b[1m0s\u001b[0m 57ms/step - accuracy: 0.1429 - loss: 2.9929\n",
            "Epoch 13/50\n",
            "\u001b[1m1/1\u001b[0m \u001b[32m━━━━━━━━━━━━━━━━━━━━\u001b[0m\u001b[37m\u001b[0m \u001b[1m0s\u001b[0m 57ms/step - accuracy: 0.1429 - loss: 2.9750\n",
            "Epoch 14/50\n",
            "\u001b[1m1/1\u001b[0m \u001b[32m━━━━━━━━━━━━━━━━━━━━\u001b[0m\u001b[37m\u001b[0m \u001b[1m0s\u001b[0m 55ms/step - accuracy: 0.0952 - loss: 2.9538\n",
            "Epoch 15/50\n",
            "\u001b[1m1/1\u001b[0m \u001b[32m━━━━━━━━━━━━━━━━━━━━\u001b[0m\u001b[37m\u001b[0m \u001b[1m0s\u001b[0m 55ms/step - accuracy: 0.0952 - loss: 2.9289\n",
            "Epoch 16/50\n",
            "\u001b[1m1/1\u001b[0m \u001b[32m━━━━━━━━━━━━━━━━━━━━\u001b[0m\u001b[37m\u001b[0m \u001b[1m0s\u001b[0m 61ms/step - accuracy: 0.0952 - loss: 2.9001\n",
            "Epoch 17/50\n",
            "\u001b[1m1/1\u001b[0m \u001b[32m━━━━━━━━━━━━━━━━━━━━\u001b[0m\u001b[37m\u001b[0m \u001b[1m0s\u001b[0m 59ms/step - accuracy: 0.0952 - loss: 2.8682\n",
            "Epoch 18/50\n",
            "\u001b[1m1/1\u001b[0m \u001b[32m━━━━━━━━━━━━━━━━━━━━\u001b[0m\u001b[37m\u001b[0m \u001b[1m0s\u001b[0m 55ms/step - accuracy: 0.0952 - loss: 2.8355\n",
            "Epoch 19/50\n",
            "\u001b[1m1/1\u001b[0m \u001b[32m━━━━━━━━━━━━━━━━━━━━\u001b[0m\u001b[37m\u001b[0m \u001b[1m0s\u001b[0m 58ms/step - accuracy: 0.0952 - loss: 2.8071\n",
            "Epoch 20/50\n",
            "\u001b[1m1/1\u001b[0m \u001b[32m━━━━━━━━━━━━━━━━━━━━\u001b[0m\u001b[37m\u001b[0m \u001b[1m0s\u001b[0m 62ms/step - accuracy: 0.0952 - loss: 2.7873\n",
            "Epoch 21/50\n",
            "\u001b[1m1/1\u001b[0m \u001b[32m━━━━━━━━━━━━━━━━━━━━\u001b[0m\u001b[37m\u001b[0m \u001b[1m0s\u001b[0m 56ms/step - accuracy: 0.1429 - loss: 2.7714\n",
            "Epoch 22/50\n",
            "\u001b[1m1/1\u001b[0m \u001b[32m━━━━━━━━━━━━━━━━━━━━\u001b[0m\u001b[37m\u001b[0m \u001b[1m0s\u001b[0m 55ms/step - accuracy: 0.1429 - loss: 2.7503\n",
            "Epoch 23/50\n",
            "\u001b[1m1/1\u001b[0m \u001b[32m━━━━━━━━━━━━━━━━━━━━\u001b[0m\u001b[37m\u001b[0m \u001b[1m0s\u001b[0m 57ms/step - accuracy: 0.1429 - loss: 2.7205\n",
            "Epoch 24/50\n",
            "\u001b[1m1/1\u001b[0m \u001b[32m━━━━━━━━━━━━━━━━━━━━\u001b[0m\u001b[37m\u001b[0m \u001b[1m0s\u001b[0m 53ms/step - accuracy: 0.1905 - loss: 2.6849\n",
            "Epoch 25/50\n",
            "\u001b[1m1/1\u001b[0m \u001b[32m━━━━━━━━━━━━━━━━━━━━\u001b[0m\u001b[37m\u001b[0m \u001b[1m0s\u001b[0m 72ms/step - accuracy: 0.1905 - loss: 2.6480\n",
            "Epoch 26/50\n",
            "\u001b[1m1/1\u001b[0m \u001b[32m━━━━━━━━━━━━━━━━━━━━\u001b[0m\u001b[37m\u001b[0m \u001b[1m0s\u001b[0m 128ms/step - accuracy: 0.2857 - loss: 2.6123\n",
            "Epoch 27/50\n",
            "\u001b[1m1/1\u001b[0m \u001b[32m━━━━━━━━━━━━━━━━━━━━\u001b[0m\u001b[37m\u001b[0m \u001b[1m0s\u001b[0m 60ms/step - accuracy: 0.2381 - loss: 2.5777\n",
            "Epoch 28/50\n",
            "\u001b[1m1/1\u001b[0m \u001b[32m━━━━━━━━━━━━━━━━━━━━\u001b[0m\u001b[37m\u001b[0m \u001b[1m0s\u001b[0m 58ms/step - accuracy: 0.2857 - loss: 2.5426\n",
            "Epoch 29/50\n",
            "\u001b[1m1/1\u001b[0m \u001b[32m━━━━━━━━━━━━━━━━━━━━\u001b[0m\u001b[37m\u001b[0m \u001b[1m0s\u001b[0m 57ms/step - accuracy: 0.2857 - loss: 2.5043\n",
            "Epoch 30/50\n",
            "\u001b[1m1/1\u001b[0m \u001b[32m━━━━━━━━━━━━━━━━━━━━\u001b[0m\u001b[37m\u001b[0m \u001b[1m0s\u001b[0m 63ms/step - accuracy: 0.3810 - loss: 2.4603\n",
            "Epoch 31/50\n",
            "\u001b[1m1/1\u001b[0m \u001b[32m━━━━━━━━━━━━━━━━━━━━\u001b[0m\u001b[37m\u001b[0m \u001b[1m0s\u001b[0m 59ms/step - accuracy: 0.3810 - loss: 2.4098\n",
            "Epoch 32/50\n",
            "\u001b[1m1/1\u001b[0m \u001b[32m━━━━━━━━━━━━━━━━━━━━\u001b[0m\u001b[37m\u001b[0m \u001b[1m0s\u001b[0m 55ms/step - accuracy: 0.3810 - loss: 2.3546\n",
            "Epoch 33/50\n",
            "\u001b[1m1/1\u001b[0m \u001b[32m━━━━━━━━━━━━━━━━━━━━\u001b[0m\u001b[37m\u001b[0m \u001b[1m0s\u001b[0m 60ms/step - accuracy: 0.3810 - loss: 2.2980\n",
            "Epoch 34/50\n",
            "\u001b[1m1/1\u001b[0m \u001b[32m━━━━━━━━━━━━━━━━━━━━\u001b[0m\u001b[37m\u001b[0m \u001b[1m0s\u001b[0m 53ms/step - accuracy: 0.4286 - loss: 2.2399\n",
            "Epoch 35/50\n",
            "\u001b[1m1/1\u001b[0m \u001b[32m━━━━━━━━━━━━━━━━━━━━\u001b[0m\u001b[37m\u001b[0m \u001b[1m0s\u001b[0m 60ms/step - accuracy: 0.4286 - loss: 2.1781\n",
            "Epoch 36/50\n",
            "\u001b[1m1/1\u001b[0m \u001b[32m━━━━━━━━━━━━━━━━━━━━\u001b[0m\u001b[37m\u001b[0m \u001b[1m0s\u001b[0m 58ms/step - accuracy: 0.4762 - loss: 2.1167\n",
            "Epoch 37/50\n",
            "\u001b[1m1/1\u001b[0m \u001b[32m━━━━━━━━━━━━━━━━━━━━\u001b[0m\u001b[37m\u001b[0m \u001b[1m0s\u001b[0m 56ms/step - accuracy: 0.4762 - loss: 2.0623\n",
            "Epoch 38/50\n",
            "\u001b[1m1/1\u001b[0m \u001b[32m━━━━━━━━━━━━━━━━━━━━\u001b[0m\u001b[37m\u001b[0m \u001b[1m0s\u001b[0m 54ms/step - accuracy: 0.4286 - loss: 2.0042\n",
            "Epoch 39/50\n",
            "\u001b[1m1/1\u001b[0m \u001b[32m━━━━━━━━━━━━━━━━━━━━\u001b[0m\u001b[37m\u001b[0m \u001b[1m0s\u001b[0m 53ms/step - accuracy: 0.4286 - loss: 1.9433\n",
            "Epoch 40/50\n",
            "\u001b[1m1/1\u001b[0m \u001b[32m━━━━━━━━━━━━━━━━━━━━\u001b[0m\u001b[37m\u001b[0m \u001b[1m0s\u001b[0m 54ms/step - accuracy: 0.4762 - loss: 1.8858\n",
            "Epoch 41/50\n",
            "\u001b[1m1/1\u001b[0m \u001b[32m━━━━━━━━━━━━━━━━━━━━\u001b[0m\u001b[37m\u001b[0m \u001b[1m0s\u001b[0m 138ms/step - accuracy: 0.5238 - loss: 1.8292\n",
            "Epoch 42/50\n",
            "\u001b[1m1/1\u001b[0m \u001b[32m━━━━━━━━━━━━━━━━━━━━\u001b[0m\u001b[37m\u001b[0m \u001b[1m0s\u001b[0m 62ms/step - accuracy: 0.5714 - loss: 1.7774\n",
            "Epoch 43/50\n",
            "\u001b[1m1/1\u001b[0m \u001b[32m━━━━━━━━━━━━━━━━━━━━\u001b[0m\u001b[37m\u001b[0m \u001b[1m0s\u001b[0m 54ms/step - accuracy: 0.6190 - loss: 1.7183\n",
            "Epoch 44/50\n",
            "\u001b[1m1/1\u001b[0m \u001b[32m━━━━━━━━━━━━━━━━━━━━\u001b[0m\u001b[37m\u001b[0m \u001b[1m0s\u001b[0m 58ms/step - accuracy: 0.6667 - loss: 1.6651\n",
            "Epoch 45/50\n",
            "\u001b[1m1/1\u001b[0m \u001b[32m━━━━━━━━━━━━━━━━━━━━\u001b[0m\u001b[37m\u001b[0m \u001b[1m0s\u001b[0m 63ms/step - accuracy: 0.6667 - loss: 1.6104\n",
            "Epoch 46/50\n",
            "\u001b[1m1/1\u001b[0m \u001b[32m━━━━━━━━━━━━━━━━━━━━\u001b[0m\u001b[37m\u001b[0m \u001b[1m0s\u001b[0m 55ms/step - accuracy: 0.6667 - loss: 1.5557\n",
            "Epoch 47/50\n",
            "\u001b[1m1/1\u001b[0m \u001b[32m━━━━━━━━━━━━━━━━━━━━\u001b[0m\u001b[37m\u001b[0m \u001b[1m0s\u001b[0m 59ms/step - accuracy: 0.6667 - loss: 1.5060\n",
            "Epoch 48/50\n",
            "\u001b[1m1/1\u001b[0m \u001b[32m━━━━━━━━━━━━━━━━━━━━\u001b[0m\u001b[37m\u001b[0m \u001b[1m0s\u001b[0m 60ms/step - accuracy: 0.7619 - loss: 1.4506\n",
            "Epoch 49/50\n",
            "\u001b[1m1/1\u001b[0m \u001b[32m━━━━━━━━━━━━━━━━━━━━\u001b[0m\u001b[37m\u001b[0m \u001b[1m0s\u001b[0m 60ms/step - accuracy: 0.7143 - loss: 1.4016\n",
            "Epoch 50/50\n",
            "\u001b[1m1/1\u001b[0m \u001b[32m━━━━━━━━━━━━━━━━━━━━\u001b[0m\u001b[37m\u001b[0m \u001b[1m0s\u001b[0m 58ms/step - accuracy: 0.7619 - loss: 1.3505\n",
            "\u001b[1m1/1\u001b[0m \u001b[32m━━━━━━━━━━━━━━━━━━━━\u001b[0m\u001b[37m\u001b[0m \u001b[1m0s\u001b[0m 210ms/step\n",
            "\u001b[1m1/1\u001b[0m \u001b[32m━━━━━━━━━━━━━━━━━━━━\u001b[0m\u001b[37m\u001b[0m \u001b[1m0s\u001b[0m 38ms/step\n",
            "\u001b[1m1/1\u001b[0m \u001b[32m━━━━━━━━━━━━━━━━━━━━\u001b[0m\u001b[37m\u001b[0m \u001b[1m0s\u001b[0m 41ms/step\n",
            "\u001b[1m1/1\u001b[0m \u001b[32m━━━━━━━━━━━━━━━━━━━━\u001b[0m\u001b[37m\u001b[0m \u001b[1m0s\u001b[0m 39ms/step\n",
            "\u001b[1m1/1\u001b[0m \u001b[32m━━━━━━━━━━━━━━━━━━━━\u001b[0m\u001b[37m\u001b[0m \u001b[1m0s\u001b[0m 40ms/step\n",
            "Human intelligence intelligence to industries industries\n",
            "\u001b[1m1/1\u001b[0m \u001b[32m━━━━━━━━━━━━━━━━━━━━\u001b[0m\u001b[37m\u001b[0m \u001b[1m0s\u001b[0m 41ms/step\n",
            "\u001b[1m1/1\u001b[0m \u001b[32m━━━━━━━━━━━━━━━━━━━━\u001b[0m\u001b[37m\u001b[0m \u001b[1m0s\u001b[0m 39ms/step\n",
            "\u001b[1m1/1\u001b[0m \u001b[32m━━━━━━━━━━━━━━━━━━━━\u001b[0m\u001b[37m\u001b[0m \u001b[1m0s\u001b[0m 41ms/step\n",
            "\u001b[1m1/1\u001b[0m \u001b[32m━━━━━━━━━━━━━━━━━━━━\u001b[0m\u001b[37m\u001b[0m \u001b[1m0s\u001b[0m 41ms/step\n",
            "\u001b[1m1/1\u001b[0m \u001b[32m━━━━━━━━━━━━━━━━━━━━\u001b[0m\u001b[37m\u001b[0m \u001b[1m0s\u001b[0m 39ms/step\n",
            "\u001b[1m1/1\u001b[0m \u001b[32m━━━━━━━━━━━━━━━━━━━━\u001b[0m\u001b[37m\u001b[0m \u001b[1m0s\u001b[0m 40ms/step\n",
            "Space intelligence intelligence to industries industries worldwide\n",
            "\u001b[1m1/1\u001b[0m \u001b[32m━━━━━━━━━━━━━━━━━━━━\u001b[0m\u001b[37m\u001b[0m \u001b[1m0s\u001b[0m 42ms/step\n",
            "\u001b[1m1/1\u001b[0m \u001b[32m━━━━━━━━━━━━━━━━━━━━\u001b[0m\u001b[37m\u001b[0m \u001b[1m0s\u001b[0m 39ms/step\n",
            "\u001b[1m1/1\u001b[0m \u001b[32m━━━━━━━━━━━━━━━━━━━━\u001b[0m\u001b[37m\u001b[0m \u001b[1m0s\u001b[0m 39ms/step\n",
            "\u001b[1m1/1\u001b[0m \u001b[32m━━━━━━━━━━━━━━━━━━━━\u001b[0m\u001b[37m\u001b[0m \u001b[1m0s\u001b[0m 43ms/step\n",
            "Future intelligence intelligence to industries\n"
          ]
        }
      ]
    }
  ]
}